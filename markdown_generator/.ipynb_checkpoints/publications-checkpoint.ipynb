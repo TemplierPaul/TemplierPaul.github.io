{
 "cells": [
  {
   "cell_type": "markdown",
   "metadata": {},
   "source": [
    "## Import from CV\n",
    "Paste the description of the article from the CV as a string, then run the code. "
   ]
  },
  {
   "cell_type": "code",
   "execution_count": 92,
   "metadata": {},
   "outputs": [],
   "source": [
    "import os\n",
    "\n",
    "html_escape_table = {\n",
    "    \"&\": \"&amp;\",\n",
    "    '\"': \"&quot;\",\n",
    "    \"'\": \"&apos;\"\n",
    "    }\n",
    "\n",
    "def html_escape(text):\n",
    "    \"\"\"Produce entities within text.\"\"\"\n",
    "    return \"\".join(html_escape_table.get(c,c) for c in text)\n",
    "\n",
    "def make_md(paper):\n",
    "    paper[\"url_slug\"]=paper[\"title\"].replace(\" \", \"-\").lower()\n",
    "    paper[\"date\"]=str(paper[\"date\"])\n",
    "    \n",
    "    md_filename = str(paper[\"date\"]) + \"-\" + paper[\"url_slug\"] + \".md\"\n",
    "    html_filename = str(paper[\"date\"]) + \"-\" + paper[\"url_slug\"]\n",
    "    year = paper[\"date\"][:4]\n",
    "    \n",
    "    ## YAML variables\n",
    "    \n",
    "    md = \"---\\ntitle: \\\"\"   + paper[\"title\"] + '\"\\n'\n",
    "    \n",
    "    md += \"\"\"collection: publications\"\"\"\n",
    "    \n",
    "    md += \"\"\"\\npermalink: /publication/\"\"\" + html_filename\n",
    "    \n",
    "    if \"excerpt\" in paper:\n",
    "        md += \"\\nexcerpt: '\" + html_escape(paper[\"excerpt\"]) + \"'\"\n",
    "    \n",
    "    md += \"\\ndate: \" + str(paper[\"date\"]) \n",
    "    \n",
    "    md += \"\\nvenue: '\" + html_escape(paper[\"conference\"]) + \"'\"\n",
    "    \n",
    "    md += \"\\nauthors: '\" + html_escape(paper[\"authors\"]) + \"'\"\n",
    "    \n",
    "    if \"link\" in paper:\n",
    "        md += \"\\npaperurl: '\" + paper[\"link\"] + \"'\"\n",
    "        \n",
    "    if \"code\" in paper:\n",
    "        md += \"\\ncodeurl: '\" + paper[\"code\"] + \"'\"\n",
    "    \n",
    "    md += \"\\n---\"\n",
    "    \n",
    "    ## Markdown description for individual page\n",
    "    if \"excerpt\" in paper:\n",
    "        md += \"\\n\" + html_escape(paper[\"excerpt\"]) + \"\\n\"\n",
    "    \n",
    "    if \"link\" in paper:\n",
    "\n",
    "        md += \"\\n[Download paper here](\" + paper[\"link\"] + \")\\n\" \n",
    "    \n",
    "    md_filename = os.path.basename(md_filename)\n",
    "       \n",
    "    with open(\"../_publications/\" + md_filename, 'w') as f:\n",
    "        f.write(md)\n",
    "    return md_filename"
   ]
  },
  {
   "cell_type": "code",
   "execution_count": null,
   "metadata": {},
   "outputs": [],
   "source": []
  },
  {
   "cell_type": "code",
   "execution_count": 94,
   "metadata": {},
   "outputs": [],
   "source": [
    "path = \"/home/disc/p.templier/Documents/Perso/online-cv/_data/data.yml\""
   ]
  },
  {
   "cell_type": "code",
   "execution_count": 95,
   "metadata": {},
   "outputs": [],
   "source": [
    "import yaml\n",
    "\n",
    "with open(path, \"r\") as stream:\n",
    "    try:\n",
    "        data = yaml.safe_load(stream)\n",
    "    except yaml.YAMLError as exc:\n",
    "        print(exc)"
   ]
  },
  {
   "cell_type": "code",
   "execution_count": 96,
   "metadata": {},
   "outputs": [
    {
     "name": "stdout",
     "output_type": "stream",
     "text": [
      "dict_keys(['title', 'intro_research', 'research', 'intro_articles', 'articles'])\n"
     ]
    }
   ],
   "source": [
    "print(data[\"publications\"].keys())"
   ]
  },
  {
   "cell_type": "code",
   "execution_count": 97,
   "metadata": {},
   "outputs": [
    {
     "name": "stdout",
     "output_type": "stream",
     "text": [
      "2021-06-01-a-geometric-encoding-for-neural-network-evolution.md\n",
      "2020-06-01-evolving-a-dota-2-bot:-illuminating-search-in-cgp-and-neat.md\n",
      "2019-08-01-detecting-security-incidents-with-machine-learning-(fr).md\n",
      "2019-07-01-security-of-instant-messaging-applications-(fr).md\n"
     ]
    }
   ],
   "source": [
    "for paper in data[\"publications\"][\"research\"]:\n",
    "    file = make_md(paper)\n",
    "    print(file) \n",
    "    \n",
    "for paper in data[\"publications\"][\"articles\"]:\n",
    "    file = make_md(paper)\n",
    "    print(file) "
   ]
  },
  {
   "cell_type": "code",
   "execution_count": 83,
   "metadata": {},
   "outputs": [
    {
     "data": {
      "text/plain": [
       "{'title': 'Publications',\n",
       " 'intro_research': 'Research papers:\\n',\n",
       " 'research': [{'title': 'A Geometric Encoding for Neural Network Evolution',\n",
       "   'link': 'https://dl.acm.org/doi/10.1145/3449639.3459361',\n",
       "   'code': 'https://github.com/TemplierPaul/GENE.jl',\n",
       "   'authors': 'Paul Templier, Emmanuel Rachelson, Dennis G. Wilson',\n",
       "   'conference': 'GECCO 2021 (Genetic and Evolutionary Computation Conference)',\n",
       "   'date': datetime.date(2021, 6, 1),\n",
       "   'excerpt': 'A major limitation to the optimization of artificial neural networks (ANN) with evolutionary methods lies in the high dimensionality of the search space, the number of weights growing quadratically with the size of the network. This leads to expensive training costs, especially in evolution strategies which rely on matrices whose sizes grow with the number of genes. We introduce a geometric encoding for neural network evolution (GENE) as a representation of ANN parameters in a smaller space that scales linearly with the number of neurons, allowing for efficient parameter search. Each neuron of the network is encoded as a point in a latent space and the weight of a connection between two neurons is computed as the distance between them. The coordinates of all neurons are then optimized with evolution strategies in a reduced search space while not limiting network fitness and possibly improving search.'},\n",
       "  {'title': 'Evolving a Dota 2 bot: Illuminating search in CGP and NEAT',\n",
       "   'link': 'https://raw.githubusercontent.com/d9w/DotaBot/master/article.pdf',\n",
       "   'code': 'https://github.com/d9w/DotaBot',\n",
       "   'authors': 'Paul Templier, Lucas Hervier, Dennis G. Wilson',\n",
       "   'conference': 'Competition at GECCO 2020',\n",
       "   'date': datetime.date(2020, 6, 1),\n",
       "   'excerpt': \"In this work we present an evolution-based approach applied to Dota 2 in the Project Breezy challenge. The goal of this project is to train an agent to play a 1v1 Midlane match against the game's bots of varrying difficulties, with both sides playing Shadow Fiend. The approach we implemented relies on the MAP-elites algorithm assisted with a neural-based simulator of the game to increase behavior diversity and reduce computation load, using CGP agents or NEAT networks as individuals.\"}],\n",
       " 'intro_articles': 'Blog articles:\\n',\n",
       " 'articles': [{'title': 'Detecting security incidents with Machine Learning (FR)',\n",
       "   'link': 'https://www.riskinsight-wavestone.com/2019/08/detecter-incidents-machine-learning/',\n",
       "   'authors': 'Hugo Moret, Paul Templier',\n",
       "   'conference': 'RiskInsight blog (Wavestone)',\n",
       "   'date': datetime.date(2019, 8, 1)},\n",
       "  {'title': 'Security of instant messaging applications (FR)',\n",
       "   'link': 'https://www.riskinsight-wavestone.com/2019/07/messagerie-instantanee/',\n",
       "   'authors': 'Wajih Jmaiel, Paul Templier',\n",
       "   'conference': 'RiskInsight blog (Wavestone)',\n",
       "   'date': datetime.date(2019, 7, 1)}]}"
      ]
     },
     "execution_count": 83,
     "metadata": {},
     "output_type": "execute_result"
    }
   ],
   "source": [
    "data[\"publications\"]"
   ]
  },
  {
   "cell_type": "code",
   "execution_count": null,
   "metadata": {
    "collapsed": true
   },
   "outputs": [],
   "source": []
  }
 ],
 "metadata": {
  "kernelspec": {
   "display_name": "Python 3",
   "language": "python",
   "name": "python3"
  },
  "language_info": {
   "codemirror_mode": {
    "name": "ipython",
    "version": 3
   },
   "file_extension": ".py",
   "mimetype": "text/x-python",
   "name": "python",
   "nbconvert_exporter": "python",
   "pygments_lexer": "ipython3",
   "version": "3.8.2"
  }
 },
 "nbformat": 4,
 "nbformat_minor": 1
}
