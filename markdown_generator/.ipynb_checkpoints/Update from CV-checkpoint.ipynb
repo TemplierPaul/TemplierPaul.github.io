{
 "cells": [
  {
   "cell_type": "code",
   "execution_count": 2,
   "id": "cc3494d5",
   "metadata": {},
   "outputs": [],
   "source": [
    "path = \"/home/disc/p.templier/Documents/Perso/online-cv/_data/data.yml\""
   ]
  },
  {
   "cell_type": "code",
   "execution_count": 3,
   "id": "c9ed6008",
   "metadata": {},
   "outputs": [],
   "source": [
    "import yaml\n",
    "\n",
    "with open(path, \"r\") as stream:\n",
    "    try:\n",
    "        data = yaml.safe_load(stream)\n",
    "    except yaml.YAMLError as exc:\n",
    "        print(exc)"
   ]
  },
  {
   "cell_type": "code",
   "execution_count": 7,
   "id": "01604daa",
   "metadata": {},
   "outputs": [],
   "source": [
    "projects = data[\"projects\"][\"assignments\"]"
   ]
  },
  {
   "cell_type": "code",
   "execution_count": 8,
   "id": "a19523ec",
   "metadata": {},
   "outputs": [
    {
     "name": "stdout",
     "output_type": "stream",
     "text": [
      "GENE\n",
      "NeuroEvolution.jl\n",
      "Multidimensional GP for multiclass classification\n",
      "Genepy\n",
      "Groinkbot\n"
     ]
    }
   ],
   "source": [
    "for p in projects:\n",
    "    print(p[\"title\"])"
   ]
  },
  {
   "cell_type": "code",
   "execution_count": 9,
   "id": "d27894fd",
   "metadata": {},
   "outputs": [
    {
     "data": {
      "text/plain": [
       "{'title': 'Groinkbot',\n",
       " 'link': 'https://github.com/GroinkIndustries/GroinkBot',\n",
       " 'tagline': 'Multi-platform chatbot framework, based on a modular architecture and with a high-level interface.'}"
      ]
     },
     "execution_count": 9,
     "metadata": {},
     "output_type": "execute_result"
    }
   ],
   "source": [
    "p"
   ]
  },
  {
   "cell_type": "code",
   "execution_count": 1,
   "id": "1a705650",
   "metadata": {},
   "outputs": [],
   "source": [
    "import os\n",
    "\n",
    "html_escape_table = {\n",
    "    \"&\": \"&amp;\",\n",
    "    '\"': \"&quot;\",\n",
    "    \"'\": \"&apos;\"\n",
    "    }\n",
    "\n",
    "def html_escape(text):\n",
    "    \"\"\"Produce entities within text.\"\"\"\n",
    "    return \"\".join(html_escape_table.get(c,c) for c in text)\n",
    "\n",
    "def make_md(paper):\n",
    "    md_filename = str(paper[\"date\"]) + \"-\" + paper[\"url_slug\"] + \".md\"\n",
    "    html_filename = str(paper[\"date\"]) + \"-\" + paper[\"url_slug\"]\n",
    "    year = paper[\"date\"][:4]\n",
    "    \n",
    "    ## YAML variables\n",
    "    \n",
    "    md = \"---\\ntitle: \\\"\"   + paper[\"title\"] + '\"\\n'\n",
    "    \n",
    "    md += \"\"\"collection: publications\"\"\"\n",
    "    \n",
    "    md += \"\"\"\\npermalink: /portfolio/\"\"\" + html_filename\n",
    "    \n",
    "    if \"tagline\" in paper:\n",
    "        md += \"\\nexcerpt: '\" + html_escape(paper[\"tagline\"]) + \"'\"\n",
    "    \n",
    "    if \"link\" in paper:\n",
    "        md += \"\\npaperurl: '\" + paper[\"link\"] + \"'\"\n",
    "    \n",
    "    md += \"\\n---\"\n",
    "    \n",
    "    ## Markdown description for individual page\n",
    "    if \"tagline\" in paper:\n",
    "        md += \"\\n\" + html_escape(paper[\"tagline\"]) + \"\\n\"\n",
    "    \n",
    "    if \"link\" in paper:\n",
    "        md += \"\\n[Repository](\" + paper[\"link\"] + \")\\n\" \n",
    "    \n",
    "    md_filename = os.path.basename(md_filename)\n",
    "       \n",
    "    with open(\"../_portfolio/\" + md_filename, 'w') as f:\n",
    "        f.write(md)\n",
    "    return md_filename"
   ]
  },
  {
   "cell_type": "code",
   "execution_count": null,
   "id": "be842e2e",
   "metadata": {},
   "outputs": [],
   "source": []
  }
 ],
 "metadata": {
  "kernelspec": {
   "display_name": "Python 3",
   "language": "python",
   "name": "python3"
  },
  "language_info": {
   "codemirror_mode": {
    "name": "ipython",
    "version": 3
   },
   "file_extension": ".py",
   "mimetype": "text/x-python",
   "name": "python",
   "nbconvert_exporter": "python",
   "pygments_lexer": "ipython3",
   "version": "3.8.2"
  }
 },
 "nbformat": 4,
 "nbformat_minor": 5
}
