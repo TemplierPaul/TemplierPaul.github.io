{
 "cells": [
  {
   "cell_type": "code",
   "execution_count": 7,
   "id": "7e6a2ad8",
   "metadata": {},
   "outputs": [],
   "source": [
    "from cv_import import *"
   ]
  },
  {
   "cell_type": "code",
   "execution_count": 11,
   "id": "b2075227",
   "metadata": {},
   "outputs": [],
   "source": [
    "path = \"/home/disc/p.templier/Documents/Perso/online-cv/_data/data.yml\"\n",
    "data = get_data(path)"
   ]
  },
  {
   "cell_type": "code",
   "execution_count": 12,
   "id": "c73603df",
   "metadata": {},
   "outputs": [
    {
     "name": "stdout",
     "output_type": "stream",
     "text": [
      "2024-07-01-quality-with-just-enough-diversity-in-evolutionary-policy-search.md\n",
      "2024-06-15-genetic-drift-regularization:-on-preventing-actor-injection-from-breaking-evolution-strategies.md\n",
      "2024-06-01-searching-search-spaces:-meta-evolving-a-geometric-encoding-for-neural-networks.md\n",
      "2022-06-08-lucie:-an-evaluation-and-selection-method-for-stochastic-problems.md\n",
      "2021-06-01-a-geometric-encoding-for-neural-network-evolution.md\n",
      "2020-06-01-evolving-a-dota-2-bot:-illuminating-search-in-cgp-and-neat.md\n",
      "2019-08-01-detecting-security-incidents-with-machine-learning-(fr).md\n",
      "2019-07-01-security-of-instant-messaging-applications-(fr).md\n"
     ]
    }
   ],
   "source": [
    "for paper in data[\"publications\"][\"research\"]:\n",
    "    file = make_paper(paper)\n",
    "    print(file)\n",
    "    \n",
    "for paper in data[\"publications\"][\"articles\"]:\n",
    "    file = make_paper(paper)\n",
    "    print(file)"
   ]
  },
  {
   "cell_type": "code",
   "execution_count": 13,
   "id": "951f62e6",
   "metadata": {},
   "outputs": [
    {
     "name": "stdout",
     "output_type": "stream",
     "text": [
      "2022-01-01-berl.md\n",
      "2021-06-01-gene.md\n",
      "2020-09-01-neuroevolution.jl.md\n",
      "2020-01-28-multidimensional-gp-for-multiclass-classification.md\n",
      "2020-01-31-genepy.md\n",
      "2021-01-01-groinkbot.md\n",
      "2022-01-01-compute.md\n",
      "2023-01-01-solvers.md\n"
     ]
    }
   ],
   "source": [
    "for paper in data[\"projects\"][\"assignments\"]:\n",
    "    file = make_project(paper)\n",
    "    print(file) "
   ]
  },
  {
   "cell_type": "code",
   "execution_count": 6,
   "id": "608ec8ef",
   "metadata": {},
   "outputs": [
    {
     "ename": "SyntaxError",
     "evalue": "invalid syntax (3495858967.py, line 4)",
     "output_type": "error",
     "traceback": [
      "\u001b[0;36m  Cell \u001b[0;32mIn[6], line 4\u001b[0;36m\u001b[0m\n\u001b[0;31m    permalink: /teaching/2014-spring-teaching-1\u001b[0m\n\u001b[0m               ^\u001b[0m\n\u001b[0;31mSyntaxError\u001b[0m\u001b[0;31m:\u001b[0m invalid syntax\n"
     ]
    }
   ],
   "source": [
    "title: \"Teaching experience 1\"\n",
    "collection: teaching\n",
    "type: \"Undergraduate course\"\n",
    "permalink: /teaching/2014-spring-teaching-1\n",
    "venue: \"University 1, Department\"\n",
    "date: 2014-01-01\n",
    "location: \"City, Country\""
   ]
  },
  {
   "cell_type": "code",
   "execution_count": null,
   "id": "08620eab",
   "metadata": {},
   "outputs": [],
   "source": [
    "degree: Evolutionary Computation \n",
    "university: ISAE-SUPAERO\n",
    "link: https://d9w.github.io/evolution/\n",
    "time: May 2021\n",
    "length: 4h\n",
    "supervised: \n",
    "- name: Dennis G. Wilson\n",
    "  link: https://people.isae-supaero.fr/dennis-wilson?lang=en\n",
    "details: |\n",
    "Elective module on evolutionary computation for students in their 1st year of MSc Eng. I gave 2 classes of the module: \n",
    "  - Evolution of neural networks\n",
    "  - Quality-diversity approaches, evolution of behavior, coevolution "
   ]
  },
  {
   "cell_type": "code",
   "execution_count": null,
   "id": "e0f6b73e",
   "metadata": {},
   "outputs": [],
   "source": []
  }
 ],
 "metadata": {
  "kernelspec": {
   "display_name": "Python 3",
   "language": "python",
   "name": "python3"
  },
  "language_info": {
   "codemirror_mode": {
    "name": "ipython",
    "version": 3
   },
   "file_extension": ".py",
   "mimetype": "text/x-python",
   "name": "python",
   "nbconvert_exporter": "python",
   "pygments_lexer": "ipython3",
   "version": "3.8.19"
  }
 },
 "nbformat": 4,
 "nbformat_minor": 5
}
