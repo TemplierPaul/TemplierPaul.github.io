{
 "cells": [
  {
   "cell_type": "code",
   "execution_count": 1,
   "id": "7e6a2ad8",
   "metadata": {},
   "outputs": [],
   "source": [
    "from cv_import import *"
   ]
  },
  {
   "cell_type": "code",
   "execution_count": 2,
   "id": "b2075227",
   "metadata": {},
   "outputs": [],
   "source": [
    "path = \"/home/disc/p.templier/Documents/Perso/online-cv/_data/data.yml\"\n",
    "data = get_data(path)"
   ]
  },
  {
   "cell_type": "code",
   "execution_count": 3,
   "id": "c73603df",
   "metadata": {},
   "outputs": [
    {
     "name": "stdout",
     "output_type": "stream",
     "text": [
      "2021-06-01-a-geometric-encoding-for-neural-network-evolution.md\n",
      "2020-06-01-evolving-a-dota-2-bot:-illuminating-search-in-cgp-and-neat.md\n",
      "2019-08-01-detecting-security-incidents-with-machine-learning-(fr).md\n",
      "2019-07-01-security-of-instant-messaging-applications-(fr).md\n"
     ]
    }
   ],
   "source": [
    "for paper in data[\"publications\"][\"research\"]:\n",
    "    file = make_paper(paper)\n",
    "    print(file)\n",
    "    \n",
    "for paper in data[\"publications\"][\"articles\"]:\n",
    "    file = make_paper(paper)\n",
    "    print(file)"
   ]
  },
  {
   "cell_type": "code",
   "execution_count": 4,
   "id": "951f62e6",
   "metadata": {},
   "outputs": [
    {
     "name": "stdout",
     "output_type": "stream",
     "text": [
      "2021-06-01-gene.md\n",
      "2020-09-01-neuroevolution.jl.md\n",
      "2020-01-28-multidimensional-gp-for-multiclass-classification.md\n",
      "2020-01-31-genepy.md\n",
      "2021-01-01-groinkbot.md\n"
     ]
    }
   ],
   "source": [
    "for paper in data[\"projects\"][\"assignments\"]:\n",
    "    file = make_project(paper)\n",
    "    print(file) "
   ]
  },
  {
   "cell_type": "code",
   "execution_count": null,
   "id": "608ec8ef",
   "metadata": {},
   "outputs": [],
   "source": [
    "title: \"Teaching experience 1\"\n",
    "collection: teaching\n",
    "type: \"Undergraduate course\"\n",
    "permalink: /teaching/2014-spring-teaching-1\n",
    "venue: \"University 1, Department\"\n",
    "date: 2014-01-01\n",
    "location: \"City, Country\""
   ]
  },
  {
   "cell_type": "code",
   "execution_count": null,
   "id": "08620eab",
   "metadata": {},
   "outputs": [],
   "source": [
    "degree: Evolutionary Computation \n",
    "university: ISAE-SUPAERO\n",
    "link: https://d9w.github.io/evolution/\n",
    "time: May 2021\n",
    "length: 4h\n",
    "supervised: \n",
    "- name: Dennis G. Wilson\n",
    "  link: https://people.isae-supaero.fr/dennis-wilson?lang=en\n",
    "details: |\n",
    "Elective module on evolutionary computation for students in their 1st year of MSc Eng. I gave 2 classes of the module: \n",
    "  - Evolution of neural networks\n",
    "  - Quality-diversity approaches, evolution of behavior, coevolution "
   ]
  },
  {
   "cell_type": "code",
   "execution_count": null,
   "id": "e0f6b73e",
   "metadata": {},
   "outputs": [],
   "source": []
  }
 ],
 "metadata": {
  "kernelspec": {
   "display_name": "Python 3",
   "language": "python",
   "name": "python3"
  },
  "language_info": {
   "codemirror_mode": {
    "name": "ipython",
    "version": 3
   },
   "file_extension": ".py",
   "mimetype": "text/x-python",
   "name": "python",
   "nbconvert_exporter": "python",
   "pygments_lexer": "ipython3",
   "version": "3.8.2"
  }
 },
 "nbformat": 4,
 "nbformat_minor": 5
}
